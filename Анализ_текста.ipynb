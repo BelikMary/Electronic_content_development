{
  "nbformat": 4,
  "nbformat_minor": 0,
  "metadata": {
    "colab": {
      "provenance": [],
      "authorship_tag": "ABX9TyN4hBFOr/kR4vlwCnuiffjK",
      "include_colab_link": true
    },
    "kernelspec": {
      "name": "python3",
      "display_name": "Python 3"
    },
    "language_info": {
      "name": "python"
    }
  },
  "cells": [
    {
      "cell_type": "markdown",
      "metadata": {
        "id": "view-in-github",
        "colab_type": "text"
      },
      "source": [
        "<a href=\"https://colab.research.google.com/github/BelikMary/Electronic_content_development/blob/main/%D0%90%D0%BD%D0%B0%D0%BB%D0%B8%D0%B7_%D1%82%D0%B5%D0%BA%D1%81%D1%82%D0%B0.ipynb\" target=\"_parent\"><img src=\"https://colab.research.google.com/assets/colab-badge.svg\" alt=\"Open In Colab\"/></a>"
      ]
    },
    {
      "cell_type": "markdown",
      "source": [
        "# **Обработка первой статьи**\n",
        "\n",
        "Это [облако тегов №1](https://wordart.com/ebu00yw9i2y7/%D0%BE%D0%B4%D0%BD%D0%B0%D1%81%D1%81%D1%8B%D0%BB%D0%BA%D0%B0%D0%B0_%D0%BF%D1%80%D0%BE%D1%84%D0%B0%D0%B9%D0%BB%D0%B8%D0%BD%D0%B3-%D0%B2%20%D0%BC%D0%B0%D1%80%D0%BA%D0%B5%D1%82%D0%B8%D0%BD%D0%B3%D0%B5%20%D0%B8%20%D0%BF%D1%80%D0%BE%D0%B4%D0%B0%D0%B6%D0%B0%D1%85_%D0%B1%D0%B5%D0%BB%D0%B8%D0%BA%D0%BC%D0%BA)"
      ],
      "metadata": {
        "id": "2SHXpNxQbkop"
      }
    },
    {
      "cell_type": "markdown",
      "source": [
        "*Предобработка текста*"
      ],
      "metadata": {
        "id": "AH8qasp_M038"
      }
    },
    {
      "cell_type": "code",
      "execution_count": null,
      "metadata": {
        "id": "sq3jtdycJTp-"
      },
      "outputs": [],
      "source": [
        "#открываем файл\n",
        "f = open('marketing.txt', \"r\", encoding=\"utf-8\")\n",
        "text = f.read()"
      ]
    },
    {
      "cell_type": "code",
      "source": [
        "#подсчет длины текста\n",
        "len(text)"
      ],
      "metadata": {
        "colab": {
          "base_uri": "https://localhost:8080/"
        },
        "id": "CGDshAqiKtJ3",
        "outputId": "10b8c1cd-7166-433f-fbec-31515201bce9"
      },
      "execution_count": null,
      "outputs": [
        {
          "output_type": "execute_result",
          "data": {
            "text/plain": [
              "7875"
            ]
          },
          "metadata": {},
          "execution_count": 88
        }
      ]
    },
    {
      "cell_type": "code",
      "source": [
        "#перевод символов в единый регистр\n",
        "text = text.lower()"
      ],
      "metadata": {
        "id": "pyCKAOomK2tt"
      },
      "execution_count": null,
      "outputs": []
    },
    {
      "cell_type": "code",
      "source": [
        "#очистка текста от знаков пунктуации\n",
        "import string\n",
        "\n",
        "spec_chars = string.punctuation + '\\n\\xa0\\t—…()'\n",
        "\n",
        "def remove_chars_from_text(text, chars):\n",
        "    return \"\".join([ch for ch in text if ch not in chars])\n",
        "\n",
        "text = remove_chars_from_text(text, spec_chars)\n",
        "text = remove_chars_from_text(text, string.digits)"
      ],
      "metadata": {
        "id": "qffZH7yqLQ7Y"
      },
      "execution_count": null,
      "outputs": []
    },
    {
      "cell_type": "code",
      "source": [
        "#проверка, что текст отчищен\n",
        "text"
      ],
      "metadata": {
        "colab": {
          "base_uri": "https://localhost:8080/",
          "height": 192
        },
        "id": "h19l1ISfLv0u",
        "outputId": "af69a88a-eb73-4bf2-9298-30d09937750b"
      },
      "execution_count": null,
      "outputs": [
        {
          "output_type": "execute_result",
          "data": {
            "text/plain": [
              "'в наше время в эпоху digital и активных онлайнпродаж всё сложнее становиться заинтересовать покупателя приобрести товар или услугу сммспециалисты маркетологи таргетологи сегментируют покупателей основываясь на социальнодемографических параметрах пол возраст место проживания увлечения доход и др при этом как показывает практика этот метод не учитывает индивидуальных психологических особенностей покупателей а ведь среди клиентов одного поколения и с   равным доходом бывают разные потребители  поразному подходят к процессу выбора товара или услуги и  учитывают его разные характеристики для более точной сегментации покупателей по жизненным ценностям большинство известных брендов   как  используют классификацию основанную на сегментировании клиентов по психотипам среди   используется методика профайлинг   типов личности  или  радикалов  профайлинг  англ  profile   профиль   совокупность психологических методов оценки и прогнозирования поведения человека на основе анализа поведенческих особенностей внешности предпочтений к отдыху и работе а  невербального и вербального поведения из всего набора ценностей определенного типа личности выбирают те у которых есть пересечение с товаром или услугой после этого эти пересечения ложатся в основу ценностного позиционирования бренда составления стратегии продаж написания рекламных роликов статей постов а  создания сайта или лендинга если рекламное послание сделано в соответствии с этим ключом то покупатель воспринимает его как   давно существующее понятное и принимает полностью тем самым делая выбор в пользу   товара или услуги выделяют семь типов клиентов    демонстративный    гипертимный    тревожный    паранойяльный    контролирующий    эмотивный    креативный демонстративный тип для этого типа наиболее значимы   статусность  они во всём хотят быть причастны к брендам рестораны курорты автомобили одежда услуги и     людей как правило привлекает реклама с известными актерами звездами эстрады покупки они делают исключительно   подчеркнут их статусность и принадлежность к высокому обществу если в рекламе упомянуть что товаром или услугой пользуется известная личность из шоубизнеса то вероятность покупки   типов увеличивается не менее важной для них   эксклюзивность и эстетика внешнего вида приобретаемой продукции желательно создавать товары с оригинальными названиями и броскими упаковками слова и посылы    использовать для   типа в маркетинге  уникальный   эксклюзивный   статус   бренд   новинка  тренд   хит сезона   модный   ярким   бренда  покупает демонстративный тип   apple parker porsche   гипертимный тип  люди отличаются гиперактивностью и хорошим настроением они ценят в жизни прежде всего удовольствие во всех его проявлениях от отдыха общения приключений и тд однако гипертимы не способны на долгие рутинные действия и выполнение монотонных обязанностей это спонтанный тип покупателей именно   в рекламных кампаниях их лучше всего призывать к авантюризму новым и ярким эмоциям слова и посылы    использовать в маркетинге  авантюризм   страсть   вкус жизни   яркие эмоции   живем один раз  и     бренда  позиционируется на  тип личности   redbull   тревожный тип в отличие от гипертимного типа личности тревожный начинает сомневаться в   действии с самого начала будь то давление или неудача – и человек выходит из строя эти люди редко впадают в крайности и в жизни они прежде всего ценят стабильность по   натуре они консерваторы для них важны семейные ценности семья и ощущение стабильности большое влияние на этот тип оказывает реклама по технологии buzzmarketing то есть реклама основанная на принципе  сарафанного радио  и product placement  нативная реклама вызывающая ощущение спокойствия и безопасности в креативах  разумно приводить рациональные rtb  reason tobelieve факторы вызывающие доверие к бренду слова и посылы    использовать в рекламе  безопасность   надежность   стабильный   семейные ценности   традиции  и     бренда  позиционируется на  тип личности   ikea   паранойяльный тип активное стремление добиваться   целей и повышать личную эффективность отличительная особенность   типа эти люди обладают высоким энергетическим запасом сил что делает их мультизадачными и высокоэффективными работниками они способны решать сложные задачи требующие сильного характера   людям будет приемлема реклама товаров и услуг  экономят время и силы и тем самым делают   типа людей эффективнее слова и посылы  статус   комфорт   достижение целей   первый   лидер  и     бренда  позиционируется на  тип личности   rolex   контролирующий тип   люди в   проявлениях стремятся к власти и оказании влияния на людей для них важно держать все под контролем даже чужие чувства и эмоции в приобретаемых товарах они ценят соотношение  ценакачество  и редко делают импульсивные покупки   для контролирующего типа важно показать ценность и выгоду товара или услуги а  дать необходимое время для принятия решения  люди принимаю решение основаясь на факты   в рекламе не   использовать много прилагательных описывающие товар и услугу слова и посылы  надежность   выгодное предложение   экономия   скидка   выгода   качество  и     бренда предпочитаемого данным типом  mercedes   эмотивный тип для этого типа духовные ценности превалируют над материальными эти люди стремятся к гармонии с собой и окружающим миром по   натуре они как правило эмпаты и эстеты для   людей особое значение имеют профайлинг семейные отношения взаимопонимание с детьми и супругами любовь к окружающим они не склонны к бездумной трате денег и спонтанный выход за рамки семейного бюджета содержание рекламной кампании должно взывать к положительным эмоциям ответным чувствам и симпатическим проявлениям для них  как и для тревожного типа эффективен product placement  нативная реклама слова и посылы  забота   любовь   гармония   бережный   семья   мир  и     любимых брендов эмотивного типа являются johnson  johnson dove evian   креативный тип для   профайлинг типа людей наиболее значимы являются творчество возможность создать чтото своими руками тяга ко всему новому и неизве   люди обладают нестандартным мышлением в обыденных вещах они независимые новаторы ориентированные на процесс а не результат внешний вид для них в отличие от демонстративного типа не имеет значения   упаковка и маркетинг продукта не станут профайлинг  целью но красивое решение и концепция определенно креативный тип  прямой покупатель товаров для дома и сада курсов handmade продуктов  можно самостоятельно сконструировать и   можно использовать рекламу по технологии product placement  нативная реклама или прямую рекламу где покупатель увидит что товар отличается креативом и требует его максимальной вовлеченности слова и посылы    использовать в рекламе  сделай сам   новый   неизведанный   творчество   профайлинг неизвестно   фантастический результат  секретный  и     бренда  позиционируется на  тип личности   lego рассмотрев каждый из типов можно сделать вывод что для выстраивания грамотной маркетинговой кампании и последующей сделки необходимо создание ценностной и эмоциональной привязанности между  профайлинг брендом и покупателем именно   умение показать в рекламе те индивидуальные предложения  пересекаются с образом жизни покупателя  главное что может выделить профессиональных специалистов и привести к успеху маркетинговую кампанию  продюсер экспертов специалист по профайлинг профайлинг профайлинг профайлинг профайлинг профайлинг персонализация персонализация персонализация персонализация персонализация персонализация персонализация персонализация персонализация '"
            ],
            "application/vnd.google.colaboratory.intrinsic+json": {
              "type": "string"
            }
          },
          "metadata": {},
          "execution_count": 91
        }
      ]
    },
    {
      "cell_type": "markdown",
      "source": [
        "*Токенизация текста*\n",
        "\n",
        "Для последующей обработки очищенный текст необходимо разбить на составные части – токены. В анализе текста на естественном языке применяется разбиение на символы, слова и предложения. Процесс разбиения называется токенизация. Для нашей задачи частотного анализа необходимо разбить текст на слова."
      ],
      "metadata": {
        "id": "wHGAk8VTMr1t"
      }
    },
    {
      "cell_type": "code",
      "source": [
        "text_token=text.split()"
      ],
      "metadata": {
        "id": "P7TxWBMDMpjw"
      },
      "execution_count": null,
      "outputs": []
    },
    {
      "cell_type": "code",
      "source": [
        "len(text_token)"
      ],
      "metadata": {
        "colab": {
          "base_uri": "https://localhost:8080/"
        },
        "id": "aEm_JEU7OPlk",
        "outputId": "4f0845de-919e-4ab3-e841-412076e80749"
      },
      "execution_count": null,
      "outputs": [
        {
          "output_type": "execute_result",
          "data": {
            "text/plain": [
              "964"
            ]
          },
          "metadata": {},
          "execution_count": 93
        }
      ]
    },
    {
      "cell_type": "code",
      "source": [
        "import nltk\n",
        "\n",
        "nltk.download('all')"
      ],
      "metadata": {
        "colab": {
          "base_uri": "https://localhost:8080/"
        },
        "id": "qMsN3n5_PA4t",
        "outputId": "06751024-cfba-4c5d-fb65-9af896c481d0"
      },
      "execution_count": null,
      "outputs": [
        {
          "output_type": "stream",
          "name": "stderr",
          "text": [
            "[nltk_data] Downloading collection 'all'\n",
            "[nltk_data]    | \n",
            "[nltk_data]    | Downloading package abc to /root/nltk_data...\n",
            "[nltk_data]    |   Package abc is already up-to-date!\n",
            "[nltk_data]    | Downloading package alpino to /root/nltk_data...\n",
            "[nltk_data]    |   Package alpino is already up-to-date!\n",
            "[nltk_data]    | Downloading package averaged_perceptron_tagger to\n",
            "[nltk_data]    |     /root/nltk_data...\n",
            "[nltk_data]    |   Package averaged_perceptron_tagger is already up-\n",
            "[nltk_data]    |       to-date!\n",
            "[nltk_data]    | Downloading package averaged_perceptron_tagger_ru to\n",
            "[nltk_data]    |     /root/nltk_data...\n",
            "[nltk_data]    |   Package averaged_perceptron_tagger_ru is already\n",
            "[nltk_data]    |       up-to-date!\n",
            "[nltk_data]    | Downloading package basque_grammars to\n",
            "[nltk_data]    |     /root/nltk_data...\n",
            "[nltk_data]    |   Package basque_grammars is already up-to-date!\n",
            "[nltk_data]    | Downloading package bcp47 to /root/nltk_data...\n",
            "[nltk_data]    |   Package bcp47 is already up-to-date!\n",
            "[nltk_data]    | Downloading package biocreative_ppi to\n",
            "[nltk_data]    |     /root/nltk_data...\n",
            "[nltk_data]    |   Package biocreative_ppi is already up-to-date!\n",
            "[nltk_data]    | Downloading package bllip_wsj_no_aux to\n",
            "[nltk_data]    |     /root/nltk_data...\n",
            "[nltk_data]    |   Package bllip_wsj_no_aux is already up-to-date!\n",
            "[nltk_data]    | Downloading package book_grammars to\n",
            "[nltk_data]    |     /root/nltk_data...\n",
            "[nltk_data]    |   Package book_grammars is already up-to-date!\n",
            "[nltk_data]    | Downloading package brown to /root/nltk_data...\n",
            "[nltk_data]    |   Package brown is already up-to-date!\n",
            "[nltk_data]    | Downloading package brown_tei to /root/nltk_data...\n",
            "[nltk_data]    |   Package brown_tei is already up-to-date!\n",
            "[nltk_data]    | Downloading package cess_cat to /root/nltk_data...\n",
            "[nltk_data]    |   Package cess_cat is already up-to-date!\n",
            "[nltk_data]    | Downloading package cess_esp to /root/nltk_data...\n",
            "[nltk_data]    |   Package cess_esp is already up-to-date!\n",
            "[nltk_data]    | Downloading package chat80 to /root/nltk_data...\n",
            "[nltk_data]    |   Package chat80 is already up-to-date!\n",
            "[nltk_data]    | Downloading package city_database to\n",
            "[nltk_data]    |     /root/nltk_data...\n",
            "[nltk_data]    |   Package city_database is already up-to-date!\n",
            "[nltk_data]    | Downloading package cmudict to /root/nltk_data...\n",
            "[nltk_data]    |   Package cmudict is already up-to-date!\n",
            "[nltk_data]    | Downloading package comparative_sentences to\n",
            "[nltk_data]    |     /root/nltk_data...\n",
            "[nltk_data]    |   Package comparative_sentences is already up-to-\n",
            "[nltk_data]    |       date!\n",
            "[nltk_data]    | Downloading package comtrans to /root/nltk_data...\n",
            "[nltk_data]    |   Package comtrans is already up-to-date!\n",
            "[nltk_data]    | Downloading package conll2000 to /root/nltk_data...\n",
            "[nltk_data]    |   Package conll2000 is already up-to-date!\n",
            "[nltk_data]    | Downloading package conll2002 to /root/nltk_data...\n",
            "[nltk_data]    |   Package conll2002 is already up-to-date!\n",
            "[nltk_data]    | Downloading package conll2007 to /root/nltk_data...\n",
            "[nltk_data]    |   Package conll2007 is already up-to-date!\n",
            "[nltk_data]    | Downloading package crubadan to /root/nltk_data...\n",
            "[nltk_data]    |   Package crubadan is already up-to-date!\n",
            "[nltk_data]    | Downloading package dependency_treebank to\n",
            "[nltk_data]    |     /root/nltk_data...\n",
            "[nltk_data]    |   Package dependency_treebank is already up-to-date!\n",
            "[nltk_data]    | Downloading package dolch to /root/nltk_data...\n",
            "[nltk_data]    |   Package dolch is already up-to-date!\n",
            "[nltk_data]    | Downloading package europarl_raw to\n",
            "[nltk_data]    |     /root/nltk_data...\n",
            "[nltk_data]    |   Package europarl_raw is already up-to-date!\n",
            "[nltk_data]    | Downloading package extended_omw to\n",
            "[nltk_data]    |     /root/nltk_data...\n",
            "[nltk_data]    |   Package extended_omw is already up-to-date!\n",
            "[nltk_data]    | Downloading package floresta to /root/nltk_data...\n",
            "[nltk_data]    |   Package floresta is already up-to-date!\n",
            "[nltk_data]    | Downloading package framenet_v15 to\n",
            "[nltk_data]    |     /root/nltk_data...\n",
            "[nltk_data]    |   Package framenet_v15 is already up-to-date!\n",
            "[nltk_data]    | Downloading package framenet_v17 to\n",
            "[nltk_data]    |     /root/nltk_data...\n",
            "[nltk_data]    |   Package framenet_v17 is already up-to-date!\n",
            "[nltk_data]    | Downloading package gazetteers to /root/nltk_data...\n",
            "[nltk_data]    |   Package gazetteers is already up-to-date!\n",
            "[nltk_data]    | Downloading package genesis to /root/nltk_data...\n",
            "[nltk_data]    |   Package genesis is already up-to-date!\n",
            "[nltk_data]    | Downloading package gutenberg to /root/nltk_data...\n",
            "[nltk_data]    |   Package gutenberg is already up-to-date!\n",
            "[nltk_data]    | Downloading package ieer to /root/nltk_data...\n",
            "[nltk_data]    |   Package ieer is already up-to-date!\n",
            "[nltk_data]    | Downloading package inaugural to /root/nltk_data...\n",
            "[nltk_data]    |   Package inaugural is already up-to-date!\n",
            "[nltk_data]    | Downloading package indian to /root/nltk_data...\n",
            "[nltk_data]    |   Package indian is already up-to-date!\n",
            "[nltk_data]    | Downloading package jeita to /root/nltk_data...\n",
            "[nltk_data]    |   Package jeita is already up-to-date!\n",
            "[nltk_data]    | Downloading package kimmo to /root/nltk_data...\n",
            "[nltk_data]    |   Package kimmo is already up-to-date!\n",
            "[nltk_data]    | Downloading package knbc to /root/nltk_data...\n",
            "[nltk_data]    |   Package knbc is already up-to-date!\n",
            "[nltk_data]    | Downloading package large_grammars to\n",
            "[nltk_data]    |     /root/nltk_data...\n",
            "[nltk_data]    |   Package large_grammars is already up-to-date!\n",
            "[nltk_data]    | Downloading package lin_thesaurus to\n",
            "[nltk_data]    |     /root/nltk_data...\n",
            "[nltk_data]    |   Package lin_thesaurus is already up-to-date!\n",
            "[nltk_data]    | Downloading package mac_morpho to /root/nltk_data...\n",
            "[nltk_data]    |   Package mac_morpho is already up-to-date!\n",
            "[nltk_data]    | Downloading package machado to /root/nltk_data...\n",
            "[nltk_data]    |   Package machado is already up-to-date!\n",
            "[nltk_data]    | Downloading package masc_tagged to /root/nltk_data...\n",
            "[nltk_data]    |   Package masc_tagged is already up-to-date!\n",
            "[nltk_data]    | Downloading package maxent_ne_chunker to\n",
            "[nltk_data]    |     /root/nltk_data...\n",
            "[nltk_data]    |   Package maxent_ne_chunker is already up-to-date!\n",
            "[nltk_data]    | Downloading package maxent_treebank_pos_tagger to\n",
            "[nltk_data]    |     /root/nltk_data...\n",
            "[nltk_data]    |   Package maxent_treebank_pos_tagger is already up-\n",
            "[nltk_data]    |       to-date!\n",
            "[nltk_data]    | Downloading package moses_sample to\n",
            "[nltk_data]    |     /root/nltk_data...\n",
            "[nltk_data]    |   Package moses_sample is already up-to-date!\n",
            "[nltk_data]    | Downloading package movie_reviews to\n",
            "[nltk_data]    |     /root/nltk_data...\n",
            "[nltk_data]    |   Package movie_reviews is already up-to-date!\n",
            "[nltk_data]    | Downloading package mte_teip5 to /root/nltk_data...\n",
            "[nltk_data]    |   Package mte_teip5 is already up-to-date!\n",
            "[nltk_data]    | Downloading package mwa_ppdb to /root/nltk_data...\n",
            "[nltk_data]    |   Package mwa_ppdb is already up-to-date!\n",
            "[nltk_data]    | Downloading package names to /root/nltk_data...\n",
            "[nltk_data]    |   Package names is already up-to-date!\n",
            "[nltk_data]    | Downloading package nombank.1.0 to /root/nltk_data...\n",
            "[nltk_data]    |   Package nombank.1.0 is already up-to-date!\n",
            "[nltk_data]    | Downloading package nonbreaking_prefixes to\n",
            "[nltk_data]    |     /root/nltk_data...\n",
            "[nltk_data]    |   Package nonbreaking_prefixes is already up-to-date!\n",
            "[nltk_data]    | Downloading package nps_chat to /root/nltk_data...\n",
            "[nltk_data]    |   Package nps_chat is already up-to-date!\n",
            "[nltk_data]    | Downloading package omw to /root/nltk_data...\n",
            "[nltk_data]    |   Package omw is already up-to-date!\n",
            "[nltk_data]    | Downloading package omw-1.4 to /root/nltk_data...\n",
            "[nltk_data]    |   Package omw-1.4 is already up-to-date!\n",
            "[nltk_data]    | Downloading package opinion_lexicon to\n",
            "[nltk_data]    |     /root/nltk_data...\n",
            "[nltk_data]    |   Package opinion_lexicon is already up-to-date!\n",
            "[nltk_data]    | Downloading package panlex_swadesh to\n",
            "[nltk_data]    |     /root/nltk_data...\n",
            "[nltk_data]    |   Package panlex_swadesh is already up-to-date!\n",
            "[nltk_data]    | Downloading package paradigms to /root/nltk_data...\n",
            "[nltk_data]    |   Package paradigms is already up-to-date!\n",
            "[nltk_data]    | Downloading package pe08 to /root/nltk_data...\n",
            "[nltk_data]    |   Package pe08 is already up-to-date!\n",
            "[nltk_data]    | Downloading package perluniprops to\n",
            "[nltk_data]    |     /root/nltk_data...\n",
            "[nltk_data]    |   Package perluniprops is already up-to-date!\n",
            "[nltk_data]    | Downloading package pil to /root/nltk_data...\n",
            "[nltk_data]    |   Package pil is already up-to-date!\n",
            "[nltk_data]    | Downloading package pl196x to /root/nltk_data...\n",
            "[nltk_data]    |   Package pl196x is already up-to-date!\n",
            "[nltk_data]    | Downloading package porter_test to /root/nltk_data...\n",
            "[nltk_data]    |   Package porter_test is already up-to-date!\n",
            "[nltk_data]    | Downloading package ppattach to /root/nltk_data...\n",
            "[nltk_data]    |   Package ppattach is already up-to-date!\n",
            "[nltk_data]    | Downloading package problem_reports to\n",
            "[nltk_data]    |     /root/nltk_data...\n",
            "[nltk_data]    |   Package problem_reports is already up-to-date!\n",
            "[nltk_data]    | Downloading package product_reviews_1 to\n",
            "[nltk_data]    |     /root/nltk_data...\n",
            "[nltk_data]    |   Package product_reviews_1 is already up-to-date!\n",
            "[nltk_data]    | Downloading package product_reviews_2 to\n",
            "[nltk_data]    |     /root/nltk_data...\n",
            "[nltk_data]    |   Package product_reviews_2 is already up-to-date!\n",
            "[nltk_data]    | Downloading package propbank to /root/nltk_data...\n",
            "[nltk_data]    |   Package propbank is already up-to-date!\n",
            "[nltk_data]    | Downloading package pros_cons to /root/nltk_data...\n",
            "[nltk_data]    |   Package pros_cons is already up-to-date!\n",
            "[nltk_data]    | Downloading package ptb to /root/nltk_data...\n",
            "[nltk_data]    |   Package ptb is already up-to-date!\n",
            "[nltk_data]    | Downloading package punkt to /root/nltk_data...\n",
            "[nltk_data]    |   Package punkt is already up-to-date!\n",
            "[nltk_data]    | Downloading package qc to /root/nltk_data...\n",
            "[nltk_data]    |   Package qc is already up-to-date!\n",
            "[nltk_data]    | Downloading package reuters to /root/nltk_data...\n",
            "[nltk_data]    |   Package reuters is already up-to-date!\n",
            "[nltk_data]    | Downloading package rslp to /root/nltk_data...\n",
            "[nltk_data]    |   Package rslp is already up-to-date!\n",
            "[nltk_data]    | Downloading package rte to /root/nltk_data...\n",
            "[nltk_data]    |   Package rte is already up-to-date!\n",
            "[nltk_data]    | Downloading package sample_grammars to\n",
            "[nltk_data]    |     /root/nltk_data...\n",
            "[nltk_data]    |   Package sample_grammars is already up-to-date!\n",
            "[nltk_data]    | Downloading package semcor to /root/nltk_data...\n",
            "[nltk_data]    |   Package semcor is already up-to-date!\n",
            "[nltk_data]    | Downloading package senseval to /root/nltk_data...\n",
            "[nltk_data]    |   Package senseval is already up-to-date!\n",
            "[nltk_data]    | Downloading package sentence_polarity to\n",
            "[nltk_data]    |     /root/nltk_data...\n",
            "[nltk_data]    |   Package sentence_polarity is already up-to-date!\n",
            "[nltk_data]    | Downloading package sentiwordnet to\n",
            "[nltk_data]    |     /root/nltk_data...\n",
            "[nltk_data]    |   Package sentiwordnet is already up-to-date!\n",
            "[nltk_data]    | Downloading package shakespeare to /root/nltk_data...\n",
            "[nltk_data]    |   Package shakespeare is already up-to-date!\n",
            "[nltk_data]    | Downloading package sinica_treebank to\n",
            "[nltk_data]    |     /root/nltk_data...\n",
            "[nltk_data]    |   Package sinica_treebank is already up-to-date!\n",
            "[nltk_data]    | Downloading package smultron to /root/nltk_data...\n",
            "[nltk_data]    |   Package smultron is already up-to-date!\n",
            "[nltk_data]    | Downloading package snowball_data to\n",
            "[nltk_data]    |     /root/nltk_data...\n",
            "[nltk_data]    |   Package snowball_data is already up-to-date!\n",
            "[nltk_data]    | Downloading package spanish_grammars to\n",
            "[nltk_data]    |     /root/nltk_data...\n",
            "[nltk_data]    |   Package spanish_grammars is already up-to-date!\n",
            "[nltk_data]    | Downloading package state_union to /root/nltk_data...\n",
            "[nltk_data]    |   Package state_union is already up-to-date!\n",
            "[nltk_data]    | Downloading package stopwords to /root/nltk_data...\n",
            "[nltk_data]    |   Package stopwords is already up-to-date!\n",
            "[nltk_data]    | Downloading package subjectivity to\n",
            "[nltk_data]    |     /root/nltk_data...\n",
            "[nltk_data]    |   Package subjectivity is already up-to-date!\n",
            "[nltk_data]    | Downloading package swadesh to /root/nltk_data...\n",
            "[nltk_data]    |   Package swadesh is already up-to-date!\n",
            "[nltk_data]    | Downloading package switchboard to /root/nltk_data...\n",
            "[nltk_data]    |   Package switchboard is already up-to-date!\n",
            "[nltk_data]    | Downloading package tagsets to /root/nltk_data...\n",
            "[nltk_data]    |   Package tagsets is already up-to-date!\n",
            "[nltk_data]    | Downloading package timit to /root/nltk_data...\n",
            "[nltk_data]    |   Package timit is already up-to-date!\n",
            "[nltk_data]    | Downloading package toolbox to /root/nltk_data...\n",
            "[nltk_data]    |   Package toolbox is already up-to-date!\n",
            "[nltk_data]    | Downloading package treebank to /root/nltk_data...\n",
            "[nltk_data]    |   Package treebank is already up-to-date!\n",
            "[nltk_data]    | Downloading package twitter_samples to\n",
            "[nltk_data]    |     /root/nltk_data...\n",
            "[nltk_data]    |   Package twitter_samples is already up-to-date!\n",
            "[nltk_data]    | Downloading package udhr to /root/nltk_data...\n",
            "[nltk_data]    |   Package udhr is already up-to-date!\n",
            "[nltk_data]    | Downloading package udhr2 to /root/nltk_data...\n",
            "[nltk_data]    |   Package udhr2 is already up-to-date!\n",
            "[nltk_data]    | Downloading package unicode_samples to\n",
            "[nltk_data]    |     /root/nltk_data...\n",
            "[nltk_data]    |   Package unicode_samples is already up-to-date!\n",
            "[nltk_data]    | Downloading package universal_tagset to\n",
            "[nltk_data]    |     /root/nltk_data...\n",
            "[nltk_data]    |   Package universal_tagset is already up-to-date!\n",
            "[nltk_data]    | Downloading package universal_treebanks_v20 to\n",
            "[nltk_data]    |     /root/nltk_data...\n",
            "[nltk_data]    |   Package universal_treebanks_v20 is already up-to-\n",
            "[nltk_data]    |       date!\n",
            "[nltk_data]    | Downloading package vader_lexicon to\n",
            "[nltk_data]    |     /root/nltk_data...\n",
            "[nltk_data]    |   Package vader_lexicon is already up-to-date!\n",
            "[nltk_data]    | Downloading package verbnet to /root/nltk_data...\n",
            "[nltk_data]    |   Package verbnet is already up-to-date!\n",
            "[nltk_data]    | Downloading package verbnet3 to /root/nltk_data...\n",
            "[nltk_data]    |   Package verbnet3 is already up-to-date!\n",
            "[nltk_data]    | Downloading package webtext to /root/nltk_data...\n",
            "[nltk_data]    |   Package webtext is already up-to-date!\n",
            "[nltk_data]    | Downloading package wmt15_eval to /root/nltk_data...\n",
            "[nltk_data]    |   Package wmt15_eval is already up-to-date!\n",
            "[nltk_data]    | Downloading package word2vec_sample to\n",
            "[nltk_data]    |     /root/nltk_data...\n",
            "[nltk_data]    |   Package word2vec_sample is already up-to-date!\n",
            "[nltk_data]    | Downloading package wordnet to /root/nltk_data...\n",
            "[nltk_data]    |   Package wordnet is already up-to-date!\n",
            "[nltk_data]    | Downloading package wordnet2021 to /root/nltk_data...\n",
            "[nltk_data]    |   Package wordnet2021 is already up-to-date!\n",
            "[nltk_data]    | Downloading package wordnet2022 to /root/nltk_data...\n",
            "[nltk_data]    |   Package wordnet2022 is already up-to-date!\n",
            "[nltk_data]    | Downloading package wordnet31 to /root/nltk_data...\n",
            "[nltk_data]    |   Package wordnet31 is already up-to-date!\n",
            "[nltk_data]    | Downloading package wordnet_ic to /root/nltk_data...\n",
            "[nltk_data]    |   Package wordnet_ic is already up-to-date!\n",
            "[nltk_data]    | Downloading package words to /root/nltk_data...\n",
            "[nltk_data]    |   Package words is already up-to-date!\n",
            "[nltk_data]    | Downloading package ycoe to /root/nltk_data...\n",
            "[nltk_data]    |   Package ycoe is already up-to-date!\n",
            "[nltk_data]    | \n",
            "[nltk_data]  Done downloading collection all\n"
          ]
        },
        {
          "output_type": "execute_result",
          "data": {
            "text/plain": [
              "True"
            ]
          },
          "metadata": {},
          "execution_count": 94
        }
      ]
    },
    {
      "cell_type": "code",
      "source": [
        "from nltk import word_tokenize\n",
        "text_tokens = word_tokenize(text)"
      ],
      "metadata": {
        "id": "72kEiadGPbs_"
      },
      "execution_count": null,
      "outputs": []
    },
    {
      "cell_type": "code",
      "source": [
        "#получение длины списка токенов\n",
        "len(text_tokens)"
      ],
      "metadata": {
        "colab": {
          "base_uri": "https://localhost:8080/"
        },
        "id": "1xSUBrSWPjoH",
        "outputId": "bd9e90cc-87d4-430b-9234-ac2ca83e2272"
      },
      "execution_count": null,
      "outputs": [
        {
          "output_type": "execute_result",
          "data": {
            "text/plain": [
              "964"
            ]
          },
          "metadata": {},
          "execution_count": 96
        }
      ]
    },
    {
      "cell_type": "code",
      "source": [
        "#Для применения инструментов частотного анализа библиотеки NLTK необходимо список токенов преобразовать к классу Text, который входит в эту библиотеку:\n",
        "import nltk\n",
        "text = nltk.Text(text_tokens)"
      ],
      "metadata": {
        "id": "N2ANwIa6PlX8"
      },
      "execution_count": null,
      "outputs": []
    },
    {
      "cell_type": "code",
      "source": [
        "print(type(text))"
      ],
      "metadata": {
        "colab": {
          "base_uri": "https://localhost:8080/"
        },
        "id": "qfR7ik0OP5ae",
        "outputId": "ff2ec867-a277-4aac-a2e2-917057271a12"
      },
      "execution_count": null,
      "outputs": [
        {
          "output_type": "stream",
          "name": "stdout",
          "text": [
            "<class 'nltk.text.Text'>\n"
          ]
        }
      ]
    },
    {
      "cell_type": "markdown",
      "source": [
        "*Подсчёт статистики встречаемости слов в тексте*"
      ],
      "metadata": {
        "id": "4hPxRQmHP_qo"
      }
    },
    {
      "cell_type": "code",
      "source": [
        "from nltk.probability import FreqDist\n",
        "fdist = FreqDist(text_tokens)"
      ],
      "metadata": {
        "id": "CDyFv2fzQDuu"
      },
      "execution_count": null,
      "outputs": []
    },
    {
      "cell_type": "code",
      "source": [
        "fdist"
      ],
      "metadata": {
        "colab": {
          "base_uri": "https://localhost:8080/"
        },
        "id": "JjaggaLJQH04",
        "outputId": "f91eca11-bdc0-4366-d220-c6e1723730a5"
      },
      "execution_count": null,
      "outputs": [
        {
          "output_type": "execute_result",
          "data": {
            "text/plain": [
              "FreqDist({'и': 60, 'в': 23, 'для': 16, 'тип': 15, 'на': 13, 'профайлинг': 13, 'к': 12, 'типа': 12, 'или': 10, 'они': 10, ...})"
            ]
          },
          "metadata": {},
          "execution_count": 100
        }
      ]
    },
    {
      "cell_type": "markdown",
      "source": [
        "Сейчас самыми частыми словами являются союзы, предлоги и т.д., это надо исправить!"
      ],
      "metadata": {
        "id": "CV_U-RFQQPfs"
      }
    },
    {
      "cell_type": "markdown",
      "source": [
        "*Удаление стоп-слов*"
      ],
      "metadata": {
        "id": "nCK1Ut0OQXu9"
      }
    },
    {
      "cell_type": "code",
      "source": [
        "from nltk.corpus import stopwords\n",
        "stop_words = stopwords.words(\"russian\")"
      ],
      "metadata": {
        "id": "zZaMiopaQbsm"
      },
      "execution_count": null,
      "outputs": []
    },
    {
      "cell_type": "code",
      "source": [
        "filtered_tokens = [word for word in text_tokens if word not in stop_words]\n",
        "\n",
        "print(filtered_tokens)"
      ],
      "metadata": {
        "colab": {
          "base_uri": "https://localhost:8080/"
        },
        "id": "gotS5txARq5B",
        "outputId": "8870665c-50a0-4add-b385-7957cbdfce4b"
      },
      "execution_count": null,
      "outputs": [
        {
          "output_type": "stream",
          "name": "stdout",
          "text": [
            "['наше', 'время', 'эпоху', 'digital', 'активных', 'онлайнпродаж', 'всё', 'сложнее', 'становиться', 'заинтересовать', 'покупателя', 'приобрести', 'товар', 'услугу', 'сммспециалисты', 'маркетологи', 'таргетологи', 'сегментируют', 'покупателей', 'основываясь', 'социальнодемографических', 'параметрах', 'пол', 'возраст', 'место', 'проживания', 'увлечения', 'доход', 'др', 'показывает', 'практика', 'метод', 'учитывает', 'индивидуальных', 'психологических', 'особенностей', 'покупателей', 'среди', 'клиентов', 'одного', 'поколения', 'равным', 'доходом', 'бывают', 'разные', 'потребители', 'поразному', 'подходят', 'процессу', 'выбора', 'товара', 'услуги', 'учитывают', 'разные', 'характеристики', 'точной', 'сегментации', 'покупателей', 'жизненным', 'ценностям', 'большинство', 'известных', 'брендов', 'используют', 'классификацию', 'основанную', 'сегментировании', 'клиентов', 'психотипам', 'среди', 'используется', 'методика', 'профайлинг', 'типов', 'личности', 'радикалов', 'профайлинг', 'англ', 'profile', 'профиль', 'совокупность', 'психологических', 'методов', 'оценки', 'прогнозирования', 'поведения', 'человека', 'основе', 'анализа', 'поведенческих', 'особенностей', 'внешности', 'предпочтений', 'отдыху', 'работе', 'невербального', 'вербального', 'поведения', 'набора', 'ценностей', 'определенного', 'типа', 'личности', 'выбирают', 'те', 'которых', 'пересечение', 'товаром', 'услугой', 'пересечения', 'ложатся', 'основу', 'ценностного', 'позиционирования', 'бренда', 'составления', 'стратегии', 'продаж', 'написания', 'рекламных', 'роликов', 'статей', 'постов', 'создания', 'сайта', 'лендинга', 'рекламное', 'послание', 'сделано', 'соответствии', 'этим', 'ключом', 'покупатель', 'воспринимает', 'давно', 'существующее', 'понятное', 'принимает', 'полностью', 'самым', 'делая', 'выбор', 'пользу', 'товара', 'услуги', 'выделяют', 'семь', 'типов', 'клиентов', 'демонстративный', 'гипертимный', 'тревожный', 'паранойяльный', 'контролирующий', 'эмотивный', 'креативный', 'демонстративный', 'тип', 'типа', 'наиболее', 'значимы', 'статусность', 'всём', 'хотят', 'причастны', 'брендам', 'рестораны', 'курорты', 'автомобили', 'одежда', 'услуги', 'людей', 'правило', 'привлекает', 'реклама', 'известными', 'актерами', 'звездами', 'эстрады', 'покупки', 'делают', 'исключительно', 'подчеркнут', 'статусность', 'принадлежность', 'высокому', 'обществу', 'рекламе', 'упомянуть', 'товаром', 'услугой', 'пользуется', 'известная', 'личность', 'шоубизнеса', 'вероятность', 'покупки', 'типов', 'увеличивается', 'менее', 'важной', 'эксклюзивность', 'эстетика', 'внешнего', 'вида', 'приобретаемой', 'продукции', 'желательно', 'создавать', 'товары', 'оригинальными', 'названиями', 'броскими', 'упаковками', 'слова', 'посылы', 'использовать', 'типа', 'маркетинге', 'уникальный', 'эксклюзивный', 'статус', 'бренд', 'новинка', 'тренд', 'хит', 'сезона', 'модный', 'ярким', 'бренда', 'покупает', 'демонстративный', 'тип', 'apple', 'parker', 'porsche', 'гипертимный', 'тип', 'люди', 'отличаются', 'гиперактивностью', 'хорошим', 'настроением', 'ценят', 'жизни', 'прежде', 'удовольствие', 'проявлениях', 'отдыха', 'общения', 'приключений', 'тд', 'однако', 'гипертимы', 'способны', 'долгие', 'рутинные', 'действия', 'выполнение', 'монотонных', 'обязанностей', 'это', 'спонтанный', 'тип', 'покупателей', 'именно', 'рекламных', 'кампаниях', 'призывать', 'авантюризму', 'новым', 'ярким', 'эмоциям', 'слова', 'посылы', 'использовать', 'маркетинге', 'авантюризм', 'страсть', 'вкус', 'жизни', 'яркие', 'эмоции', 'живем', 'бренда', 'позиционируется', 'тип', 'личности', 'redbull', 'тревожный', 'тип', 'отличие', 'гипертимного', 'типа', 'личности', 'тревожный', 'начинает', 'сомневаться', 'действии', 'самого', 'начала', 'будь', 'давление', 'неудача', '–', 'человек', 'выходит', 'строя', 'люди', 'редко', 'впадают', 'крайности', 'жизни', 'прежде', 'ценят', 'стабильность', 'натуре', 'консерваторы', 'важны', 'семейные', 'ценности', 'семья', 'ощущение', 'стабильности', 'большое', 'влияние', 'тип', 'оказывает', 'реклама', 'технологии', 'buzzmarketing', 'реклама', 'основанная', 'принципе', 'сарафанного', 'радио', 'product', 'placement', 'нативная', 'реклама', 'вызывающая', 'ощущение', 'спокойствия', 'безопасности', 'креативах', 'разумно', 'приводить', 'рациональные', 'rtb', 'reason', 'tobelieve', 'факторы', 'вызывающие', 'доверие', 'бренду', 'слова', 'посылы', 'использовать', 'рекламе', 'безопасность', 'надежность', 'стабильный', 'семейные', 'ценности', 'традиции', 'бренда', 'позиционируется', 'тип', 'личности', 'ikea', 'паранойяльный', 'тип', 'активное', 'стремление', 'добиваться', 'целей', 'повышать', 'личную', 'эффективность', 'отличительная', 'особенность', 'типа', 'люди', 'обладают', 'высоким', 'энергетическим', 'запасом', 'сил', 'делает', 'мультизадачными', 'высокоэффективными', 'работниками', 'способны', 'решать', 'сложные', 'задачи', 'требующие', 'сильного', 'характера', 'людям', 'приемлема', 'реклама', 'товаров', 'услуг', 'экономят', 'время', 'силы', 'самым', 'делают', 'типа', 'людей', 'эффективнее', 'слова', 'посылы', 'статус', 'комфорт', 'достижение', 'целей', 'первый', 'лидер', 'бренда', 'позиционируется', 'тип', 'личности', 'rolex', 'контролирующий', 'тип', 'люди', 'проявлениях', 'стремятся', 'власти', 'оказании', 'влияния', 'людей', 'важно', 'держать', 'контролем', 'чужие', 'чувства', 'эмоции', 'приобретаемых', 'товарах', 'ценят', 'соотношение', 'ценакачество', 'редко', 'делают', 'импульсивные', 'покупки', 'контролирующего', 'типа', 'важно', 'показать', 'ценность', 'выгоду', 'товара', 'услуги', 'дать', 'необходимое', 'время', 'принятия', 'решения', 'люди', 'принимаю', 'решение', 'основаясь', 'факты', 'рекламе', 'использовать', 'прилагательных', 'описывающие', 'товар', 'услугу', 'слова', 'посылы', 'надежность', 'выгодное', 'предложение', 'экономия', 'скидка', 'выгода', 'качество', 'бренда', 'предпочитаемого', 'данным', 'типом', 'mercedes', 'эмотивный', 'тип', 'типа', 'духовные', 'ценности', 'превалируют', 'материальными', 'люди', 'стремятся', 'гармонии', 'собой', 'окружающим', 'миром', 'натуре', 'правило', 'эмпаты', 'эстеты', 'людей', 'особое', 'значение', 'имеют', 'профайлинг', 'семейные', 'отношения', 'взаимопонимание', 'детьми', 'супругами', 'любовь', 'окружающим', 'склонны', 'бездумной', 'трате', 'денег', 'спонтанный', 'выход', 'рамки', 'семейного', 'бюджета', 'содержание', 'рекламной', 'кампании', 'должно', 'взывать', 'положительным', 'эмоциям', 'ответным', 'чувствам', 'симпатическим', 'проявлениям', 'тревожного', 'типа', 'эффективен', 'product', 'placement', 'нативная', 'реклама', 'слова', 'посылы', 'забота', 'любовь', 'гармония', 'бережный', 'семья', 'мир', 'любимых', 'брендов', 'эмотивного', 'типа', 'являются', 'johnson', 'johnson', 'dove', 'evian', 'креативный', 'тип', 'профайлинг', 'типа', 'людей', 'наиболее', 'значимы', 'являются', 'творчество', 'возможность', 'создать', 'чтото', 'своими', 'руками', 'тяга', 'ко', 'всему', 'новому', 'неизве', 'люди', 'обладают', 'нестандартным', 'мышлением', 'обыденных', 'вещах', 'независимые', 'новаторы', 'ориентированные', 'процесс', 'результат', 'внешний', 'вид', 'отличие', 'демонстративного', 'типа', 'имеет', 'значения', 'упаковка', 'маркетинг', 'продукта', 'станут', 'профайлинг', 'целью', 'красивое', 'решение', 'концепция', 'определенно', 'креативный', 'тип', 'прямой', 'покупатель', 'товаров', 'дома', 'сада', 'курсов', 'handmade', 'продуктов', 'самостоятельно', 'сконструировать', 'использовать', 'рекламу', 'технологии', 'product', 'placement', 'нативная', 'реклама', 'прямую', 'рекламу', 'покупатель', 'увидит', 'товар', 'отличается', 'креативом', 'требует', 'максимальной', 'вовлеченности', 'слова', 'посылы', 'использовать', 'рекламе', 'сделай', 'новый', 'неизведанный', 'творчество', 'профайлинг', 'неизвестно', 'фантастический', 'результат', 'секретный', 'бренда', 'позиционируется', 'тип', 'личности', 'lego', 'рассмотрев', 'каждый', 'типов', 'сделать', 'вывод', 'выстраивания', 'грамотной', 'маркетинговой', 'кампании', 'последующей', 'сделки', 'необходимо', 'создание', 'ценностной', 'эмоциональной', 'привязанности', 'профайлинг', 'брендом', 'покупателем', 'именно', 'умение', 'показать', 'рекламе', 'те', 'индивидуальные', 'предложения', 'пересекаются', 'образом', 'жизни', 'покупателя', 'главное', 'выделить', 'профессиональных', 'специалистов', 'привести', 'успеху', 'маркетинговую', 'кампанию', 'продюсер', 'экспертов', 'специалист', 'профайлинг', 'профайлинг', 'профайлинг', 'профайлинг', 'профайлинг', 'профайлинг', 'персонализация', 'персонализация', 'персонализация', 'персонализация', 'персонализация', 'персонализация', 'персонализация', 'персонализация', 'персонализация']\n"
          ]
        }
      ]
    },
    {
      "cell_type": "markdown",
      "source": [
        "*Выделение корня слова*\n",
        "\n",
        "Т.к. слова могут иметь разное окончание, то для чистоты эксперимента выделим корень слова"
      ],
      "metadata": {
        "id": "ybXFNkkCSOYs"
      }
    },
    {
      "cell_type": "code",
      "source": [
        "from nltk.stem.snowball import SnowballStemmer\n",
        "\n",
        "stemmer = SnowballStemmer(\"russian\")\n",
        "\n",
        "lemmatized_words = [stemmer.stem(word) for word in filtered_tokens]\n",
        "print(lemmatized_words)"
      ],
      "metadata": {
        "colab": {
          "base_uri": "https://localhost:8080/"
        },
        "id": "hfiUxcYtSS7Z",
        "outputId": "585cd374-1f63-4883-d14c-d0cfafbbbb95"
      },
      "execution_count": null,
      "outputs": [
        {
          "output_type": "stream",
          "name": "stdout",
          "text": [
            "['наш', 'врем', 'эпох', 'digital', 'активн', 'онлайнпродаж', 'все', 'сложн', 'станов', 'заинтересова', 'покупател', 'приобрест', 'товар', 'услуг', 'сммспециалист', 'маркетолог', 'таргетолог', 'сегментир', 'покупател', 'основыв', 'социальнодемографическ', 'параметр', 'пол', 'возраст', 'мест', 'проживан', 'увлечен', 'доход', 'др', 'показыва', 'практик', 'метод', 'учитыва', 'индивидуальн', 'психологическ', 'особен', 'покупател', 'сред', 'клиент', 'одн', 'поколен', 'равн', 'доход', 'быва', 'разн', 'потребител', 'поразн', 'подход', 'процесс', 'выбор', 'товар', 'услуг', 'учитыва', 'разн', 'характеристик', 'точн', 'сегментац', 'покупател', 'жизнен', 'ценност', 'большинств', 'известн', 'бренд', 'использ', 'классификац', 'основа', 'сегментирован', 'клиент', 'психотип', 'сред', 'использ', 'методик', 'профайлинг', 'тип', 'личност', 'радикал', 'профайлинг', 'англ', 'profile', 'профил', 'совокупн', 'психологическ', 'метод', 'оценк', 'прогнозирован', 'поведен', 'человек', 'основ', 'анализ', 'поведенческ', 'особен', 'внешност', 'предпочтен', 'отдых', 'работ', 'невербальн', 'вербальн', 'поведен', 'набор', 'ценност', 'определен', 'тип', 'личност', 'выбира', 'те', 'котор', 'пересечен', 'товар', 'услуг', 'пересечен', 'ложат', 'основ', 'ценностн', 'позиционирован', 'бренд', 'составлен', 'стратег', 'продаж', 'написан', 'рекламн', 'ролик', 'стат', 'пост', 'создан', 'сайт', 'лендинг', 'рекламн', 'послан', 'сдела', 'соответств', 'эт', 'ключ', 'покупател', 'воспринима', 'давн', 'существ', 'понятн', 'принима', 'полност', 'сам', 'дел', 'выбор', 'польз', 'товар', 'услуг', 'выделя', 'сем', 'тип', 'клиент', 'демонстративн', 'гипертимн', 'тревожн', 'паранойяльн', 'контролир', 'эмотивн', 'креативн', 'демонстративн', 'тип', 'тип', 'наибол', 'значим', 'статусн', 'всем', 'хот', 'причастн', 'бренд', 'рестора', 'курорт', 'автомоб', 'одежд', 'услуг', 'люд', 'прав', 'привлека', 'реклам', 'известн', 'актер', 'звезд', 'эстрад', 'покупк', 'дела', 'исключительн', 'подчеркнут', 'статусн', 'принадлежн', 'высок', 'обществ', 'реклам', 'упомянут', 'товар', 'услуг', 'польз', 'известн', 'личност', 'шоубизнес', 'вероятн', 'покупк', 'тип', 'увеличива', 'мен', 'важн', 'эксклюзивн', 'эстетик', 'внешн', 'вид', 'приобрета', 'продукц', 'желательн', 'создава', 'товар', 'оригинальн', 'назван', 'броск', 'упаковк', 'слов', 'посыл', 'использова', 'тип', 'маркетинг', 'уникальн', 'эксклюзивн', 'статус', 'бренд', 'новинк', 'тренд', 'хит', 'сезон', 'модн', 'ярк', 'бренд', 'покупа', 'демонстративн', 'тип', 'apple', 'parker', 'porsche', 'гипертимн', 'тип', 'люд', 'отлича', 'гиперактивн', 'хорош', 'настроен', 'цен', 'жизн', 'прежд', 'удовольств', 'проявлен', 'отдых', 'общен', 'приключен', 'тд', 'однак', 'гипертим', 'способн', 'долг', 'рутин', 'действ', 'выполнен', 'монотон', 'обязан', 'эт', 'спонта', 'тип', 'покупател', 'имен', 'рекламн', 'кампан', 'призыва', 'авантюризм', 'нов', 'ярк', 'эмоц', 'слов', 'посыл', 'использова', 'маркетинг', 'авантюризм', 'страст', 'вкус', 'жизн', 'ярк', 'эмоц', 'жив', 'бренд', 'позиционир', 'тип', 'личност', 'redbull', 'тревожн', 'тип', 'отлич', 'гипертимн', 'тип', 'личност', 'тревожн', 'начина', 'сомнева', 'действ', 'сам', 'нача', 'буд', 'давлен', 'неудач', '–', 'человек', 'выход', 'стро', 'люд', 'редк', 'впада', 'крайност', 'жизн', 'прежд', 'цен', 'стабильн', 'натур', 'консерватор', 'важн', 'семейн', 'ценност', 'сем', 'ощущен', 'стабильн', 'больш', 'влиян', 'тип', 'оказыва', 'реклам', 'технолог', 'buzzmarketing', 'реклам', 'основа', 'принцип', 'сарафа', 'рад', 'product', 'placement', 'нативн', 'реклам', 'вызыва', 'ощущен', 'спокойств', 'безопасн', 'креатив', 'разумн', 'привод', 'рациональн', 'rtb', 'reason', 'tobelieve', 'фактор', 'вызыва', 'довер', 'бренд', 'слов', 'посыл', 'использова', 'реклам', 'безопасн', 'надежн', 'стабильн', 'семейн', 'ценност', 'традиц', 'бренд', 'позиционир', 'тип', 'личност', 'ikea', 'паранойяльн', 'тип', 'активн', 'стремлен', 'добива', 'цел', 'повыша', 'личн', 'эффективн', 'отличительн', 'особен', 'тип', 'люд', 'облада', 'высок', 'энергетическ', 'запас', 'сил', 'дела', 'мультизадачн', 'высокоэффективн', 'работник', 'способн', 'реша', 'сложн', 'задач', 'треб', 'сильн', 'характер', 'люд', 'приемлем', 'реклам', 'товар', 'услуг', 'эконом', 'врем', 'сил', 'сам', 'дела', 'тип', 'люд', 'эффективн', 'слов', 'посыл', 'статус', 'комфорт', 'достижен', 'цел', 'перв', 'лидер', 'бренд', 'позиционир', 'тип', 'личност', 'rolex', 'контролир', 'тип', 'люд', 'проявлен', 'стрем', 'власт', 'оказан', 'влиян', 'люд', 'важн', 'держа', 'контрол', 'чуж', 'чувств', 'эмоц', 'приобрета', 'товар', 'цен', 'соотношен', 'ценакачеств', 'редк', 'дела', 'импульсивн', 'покупк', 'контролир', 'тип', 'важн', 'показа', 'ценност', 'выгод', 'товар', 'услуг', 'дат', 'необходим', 'врем', 'принят', 'решен', 'люд', 'принима', 'решен', 'основ', 'факт', 'реклам', 'использова', 'прилагательн', 'описыва', 'товар', 'услуг', 'слов', 'посыл', 'надежн', 'выгодн', 'предложен', 'эконом', 'скидк', 'выгод', 'качеств', 'бренд', 'предпочита', 'дан', 'тип', 'mercedes', 'эмотивн', 'тип', 'тип', 'духовн', 'ценност', 'превалир', 'материальн', 'люд', 'стрем', 'гармон', 'соб', 'окружа', 'мир', 'натур', 'прав', 'эмпат', 'эстет', 'люд', 'особ', 'значен', 'имеют', 'профайлинг', 'семейн', 'отношен', 'взаимопониман', 'детьм', 'супруг', 'любов', 'окружа', 'склон', 'бездумн', 'трат', 'денег', 'спонта', 'выход', 'рамк', 'семейн', 'бюджет', 'содержан', 'рекламн', 'кампан', 'должн', 'взыва', 'положительн', 'эмоц', 'ответн', 'чувств', 'симпатическ', 'проявлен', 'тревожн', 'тип', 'эффектив', 'product', 'placement', 'нативн', 'реклам', 'слов', 'посыл', 'забот', 'любов', 'гармон', 'бережн', 'сем', 'мир', 'любим', 'бренд', 'эмотивн', 'тип', 'явля', 'johnson', 'johnson', 'dove', 'evian', 'креативн', 'тип', 'профайлинг', 'тип', 'люд', 'наибол', 'значим', 'явля', 'творчеств', 'возможн', 'созда', 'чтот', 'сво', 'рук', 'тяг', 'ко', 'всем', 'нов', 'неизв', 'люд', 'облада', 'нестандартн', 'мышлен', 'обыден', 'вещ', 'независим', 'новатор', 'ориентирова', 'процесс', 'результат', 'внешн', 'вид', 'отлич', 'демонстративн', 'тип', 'имеет', 'значен', 'упаковк', 'маркетинг', 'продукт', 'станут', 'профайлинг', 'цел', 'красив', 'решен', 'концепц', 'определен', 'креативн', 'тип', 'прям', 'покупател', 'товар', 'дом', 'сад', 'курс', 'handmade', 'продукт', 'самостоятельн', 'сконструирова', 'использова', 'реклам', 'технолог', 'product', 'placement', 'нативн', 'реклам', 'прям', 'реклам', 'покупател', 'увид', 'товар', 'отлича', 'креатив', 'треб', 'максимальн', 'вовлечен', 'слов', 'посыл', 'использова', 'реклам', 'сдела', 'нов', 'неизведа', 'творчеств', 'профайлинг', 'неизвестн', 'фантастическ', 'результат', 'секретн', 'бренд', 'позиционир', 'тип', 'личност', 'lego', 'рассмотр', 'кажд', 'тип', 'сдела', 'вывод', 'выстраиван', 'грамотн', 'маркетингов', 'кампан', 'послед', 'сделк', 'необходим', 'создан', 'ценностн', 'эмоциональн', 'привязан', 'профайлинг', 'бренд', 'покупател', 'имен', 'умен', 'показа', 'реклам', 'те', 'индивидуальн', 'предложен', 'пересека', 'образ', 'жизн', 'покупател', 'главн', 'выдел', 'профессиональн', 'специалист', 'привест', 'успех', 'маркетингов', 'кампан', 'продюсер', 'эксперт', 'специалист', 'профайлинг', 'профайлинг', 'профайлинг', 'профайлинг', 'профайлинг', 'профайлинг', 'персонализац', 'персонализац', 'персонализац', 'персонализац', 'персонализац', 'персонализац', 'персонализац', 'персонализац', 'персонализац']\n"
          ]
        }
      ]
    },
    {
      "cell_type": "code",
      "source": [
        "fdist = FreqDist(lemmatized_words)\n",
        "fdist.plot(30,cumulative=False)"
      ],
      "metadata": {
        "colab": {
          "base_uri": "https://localhost:8080/",
          "height": 566
        },
        "id": "ui1njnaXTORO",
        "outputId": "4a21bcd6-9e0c-4a98-dce7-9a98183500c3"
      },
      "execution_count": null,
      "outputs": [
        {
          "output_type": "display_data",
          "data": {
            "text/plain": [
              "<Figure size 640x480 with 1 Axes>"
            ],
            "image/png": "[encoded data removed]"
          },
          "metadata": {}
        },
        {
          "output_type": "execute_result",
          "data": {
            "text/plain": [
              "<Axes: xlabel='Samples', ylabel='Counts'>"
            ]
          },
          "metadata": {},
          "execution_count": 110
        }
      ]
    },
    {
      "cell_type": "markdown",
      "source": [
        "# **Обработка второй статьи**\n",
        "\n",
        "Это [облако тегов №2](https://wordart.com/scuw9sruv5mp/%D0%BE%D0%B4%D0%BD%D0%B0-%D1%81%D1%81%D1%8B%D0%BB%D0%BA%D0%B0_%D0%BF%D1%80%D0%BE%D1%84%D0%B0%D0%B9%D0%BB%D0%B8%D0%BD%D0%B3%20%D0%B2%20hr_%D0%B1%D0%B5%D0%BB%D0%B8%D0%BA%D0%BC%D0%BA)"
      ],
      "metadata": {
        "id": "_96CvlERcEM_"
      }
    },
    {
      "cell_type": "code",
      "source": [
        "#открываем файл\n",
        "d = open('hr.txt', \"r\", encoding=\"utf-8\")\n",
        "text2 = d.read()"
      ],
      "metadata": {
        "id": "8ZaOLBNncdyN"
      },
      "execution_count": 135,
      "outputs": []
    },
    {
      "cell_type": "code",
      "source": [
        "#подсчет длины текста\n",
        "len(text2)"
      ],
      "metadata": {
        "colab": {
          "base_uri": "https://localhost:8080/"
        },
        "id": "SEPPKmOyeVig",
        "outputId": "b97989dc-b5f2-4c95-878e-91d6f01ceacd"
      },
      "execution_count": 136,
      "outputs": [
        {
          "output_type": "execute_result",
          "data": {
            "text/plain": [
              "6302"
            ]
          },
          "metadata": {},
          "execution_count": 136
        }
      ]
    },
    {
      "cell_type": "code",
      "source": [
        "#перевод символов в единый регистр\n",
        "text2 = text2.lower()"
      ],
      "metadata": {
        "id": "WY0z_2g2efZ3"
      },
      "execution_count": 137,
      "outputs": []
    },
    {
      "cell_type": "code",
      "source": [
        "#очистка текста от знаков пунктуации\n",
        "import string\n",
        "\n",
        "spec_chars = string.punctuation + '\\n\\xa0\\t—…()–'\n",
        "\n",
        "def remove_chars_from_text2(text2, chars):\n",
        "    return \"\".join([ch for ch in text2 if ch not in chars])\n",
        "\n",
        "text2 = remove_chars_from_text2(text2, spec_chars)\n",
        "text2 = remove_chars_from_text2(text2, string.digits)"
      ],
      "metadata": {
        "id": "VAUB5UmIeixF"
      },
      "execution_count": 138,
      "outputs": []
    },
    {
      "cell_type": "code",
      "source": [
        "#проверка, что текст отчищен\n",
        "text2"
      ],
      "metadata": {
        "colab": {
          "base_uri": "https://localhost:8080/",
          "height": 192
        },
        "id": "hOWrjg8_euQz",
        "outputId": "e236c90b-123c-4058-d348-2f057697d53a"
      },
      "execution_count": 139,
      "outputs": [
        {
          "output_type": "execute_result",
          "data": {
            "text/plain": [
              "'профайлинг в hr принципы и эффективность метода  профайлинг   техника визуального распознавания психотипа человека изначально термин  профайлинг  употреблялся в контексте составления поискового психологического портрета профиля неизвестного лица по следам на месте преступления при поиске сотрудника техника профайлинга может быть успешно и продуктивно применима считает филипп штурмин  управляющий партнер bb airwaves cg эксперт по профайлингу и организационной психологии клинический психолог как в классическом расследовании нельзя на  полагаться на психологический портрет или даже фоторобот   и в подборе или формировании команды техника профайлинга не может гарантировать  результата профайлинг необходим в  случаях   важно существенно повысить вероятность успеха  эффективность метода профайлинга определяется соблюдением нескольких критериев правильного методологического подхода к работе с персоналом на первом этапе ключевым фактором является определение типа руководителя в общей системе организации  не понимать психотип руководителя и не осознавать ключевые особенности его характера через призму профайлинга  невозможно определить оптимальный тип сотрудника взаимодействуя с   получится достичь синергетического эффекта  правило применимо и в обратную сторону   в устойчивый коллектив требуется новый руководитель важно понимать и то какими общими и индивидуальными чертами обладает коллектив     принимать нового сотрудника   ориентируясь на классические типологии характера описанные у мировых классиков теории личности   практически невозможно добиться эффективности в команде специалистов с шизоидной организацией личности  руководителем к ним поставить человека с эпилептоидным типом характера аналогично сложно представить эффективное взаимодействие сотрудников паранойяльного типа характера с гипертимным типом исключения конечно возможны но в большей степени определены особенностями формирования личности в среде его личной и профессиональной историей чтобы профайлинг привел к результатам важно понимать и задачу     возложена на сотрудника не в части его прямых обязанностей а в ключе воздействия на эмоциональную составляющую коллектива    нужно гармонизировать отношения в коллективе и добавить единства в команду то оптимальным   выбор человека с эмотивным типом организацию  эмотивы способны быть дипломатичными и предупредительными учитывать интересы всей команды не ориентируясь на личные выгоды а вот в случае усиления дисциплины и контроля за деятельностью команды оптимальным   подбор руководителя с эпилептоидной личностной культурой   люди способны к строгой классификации иерархии субординации и выстраиванию соответствующих организационных систем сейчас мы не рассматриваем сложности взаимодействия в командах где формальный и неформальный лидер являются разными людьми в   системах необходимо более детальное изучение специфики команды профайлинг хорошо работает в ситуациях   существует необходимость подбора сотрудника в коллектив где несколько человек выполняют одинаковые функции    вам нужно взять дополнительного бухгалтера на участок вы легко можете сформировать требования к психологическому профилю исходя из типового профиля одного из сотрудников бухгалтерии вероятнее всего   сотрудник   иметь тревожный характерологический тип им свойственны скрупулезность и повышенная осторожность  предполагается что данный сотрудник со временем займет руководящую должность необходимо чтобы в его характере присутствовали паранойяльные или эпилептоидные нотки  в зависимости от условий профессиональной среды   планируется рост до финансового директора то в структуре характера сотрудника должен преобладать паранойяльный тип  эти люди способны добиваться цели руководствуясь основной идеей они не отвлекаются на  мелочи  и способны строить эффективные стратегии а вот  сотрудник имеет шанс стать главным бухгалтером то эпилептоидный тип характера   более продуктивным    специалисты являются более внимательными дотошными точными и соблюдающими множество инструкций  чистых  представителей того или иного психотипа не существует есть наиболее распространенные сочетания характерологических типов зная эти вариации проще простраивать не только  требования к вакансии но и к ее описанию ведь формулировки про сходные функциональные действия каждым человеком   восприниматься поразному с учетом личностных особенностей  для представителей истероидного типа характера   важны регалии возможность общего признания то для человека эмотивного типа   важна общественная значимость и польза   образом участие в одной и той же   благотворительной деятельности должно быть описано поразному в зависимости от роли будущего сотрудника  профайлинг как техника   помогает определять круг посильных задач для сотрудника описанные психотипы характеризуются не только поведением но и различными параметрами концентрации степени вовлечения в задачи ответственности и  к примеру для специалиста hrдепартамента   должен заниматься организацией корпоративных мероприятий не стоит выбирать сотрудника с эпилептоидной культурой  сотрудники не ориентированные на привнесение в жизнь коллектива праздника и суть данных мероприятий им чаще всего не близка  не говорить о какомлибо виде экстремального спорта а вот   для гипертимного типа характера свойственны   качества как бодрость и красноречие они легко поддерживают разговор на любую тему являются инициаторами коммуникаций быстро схватывают суть сотрудник гипертимного типа может с легкостью организовать корпоративное событие  же  мероприятие носит статусный характер то стоит совместить труд сотрудника гипертимной организации личности с помпезностью истероидного характера вариаций характера великое множество в том числе характер зависит от темперамента определяемого скоростью реакции нервной системы на уровне индивидуального строения мозга классические холерики сангвиники меланхолики и флегматики при  ключевые базовые типологии характера определяют внешний вид манеру общения и круг посильных задач человека имея соответствующие знания hrспециалисты могут существенно повысить эффективность своего труда создавая и укрепляя команды необходимыми звеньями и ключевыми игроками   '"
            ],
            "application/vnd.google.colaboratory.intrinsic+json": {
              "type": "string"
            }
          },
          "metadata": {},
          "execution_count": 139
        }
      ]
    },
    {
      "cell_type": "code",
      "source": [
        "#токенизация текста\n",
        "from nltk import word_tokenize\n",
        "text2_tokens = word_tokenize(text2)"
      ],
      "metadata": {
        "id": "cTdI4LgSfFiM"
      },
      "execution_count": 140,
      "outputs": []
    },
    {
      "cell_type": "code",
      "source": [
        "#получение длины списка токенов\n",
        "len(text2_tokens)"
      ],
      "metadata": {
        "colab": {
          "base_uri": "https://localhost:8080/"
        },
        "id": "DPVM11h6fP2k",
        "outputId": "ba024669-96ab-4501-b432-da535a2aa282"
      },
      "execution_count": 141,
      "outputs": [
        {
          "output_type": "execute_result",
          "data": {
            "text/plain": [
              "741"
            ]
          },
          "metadata": {},
          "execution_count": 141
        }
      ]
    },
    {
      "cell_type": "code",
      "source": [
        "#Для применения инструментов частотного анализа библиотеки NLTK необходимо список токенов преобразовать к классу Text, который входит в эту библиотеку:\n",
        "import nltk\n",
        "text2 = nltk.Text(text2_tokens)"
      ],
      "metadata": {
        "id": "6dKhhk4rfVn5"
      },
      "execution_count": 142,
      "outputs": []
    },
    {
      "cell_type": "code",
      "source": [
        "#удаление стоп-слов\n",
        "filtered_tokens2 = [word for word in text2_tokens if word not in stop_words]\n",
        "\n",
        "print(filtered_tokens2)"
      ],
      "metadata": {
        "colab": {
          "base_uri": "https://localhost:8080/"
        },
        "id": "5tTzH6F_fbIO",
        "outputId": "314b6177-6bab-4895-f249-7d90a9fd3ba0"
      },
      "execution_count": 143,
      "outputs": [
        {
          "output_type": "stream",
          "name": "stdout",
          "text": [
            "['профайлинг', 'hr', 'принципы', 'эффективность', 'метода', 'профайлинг', 'техника', 'визуального', 'распознавания', 'психотипа', 'человека', 'изначально', 'термин', 'профайлинг', 'употреблялся', 'контексте', 'составления', 'поискового', 'психологического', 'портрета', 'профиля', 'неизвестного', 'лица', 'следам', 'месте', 'преступления', 'поиске', 'сотрудника', 'техника', 'профайлинга', 'успешно', 'продуктивно', 'применима', 'считает', 'филипп', 'штурмин', 'управляющий', 'партнер', 'bb', 'airwaves', 'cg', 'эксперт', 'профайлингу', 'организационной', 'психологии', 'клинический', 'психолог', 'классическом', 'расследовании', 'полагаться', 'психологический', 'портрет', 'фоторобот', 'подборе', 'формировании', 'команды', 'техника', 'профайлинга', 'гарантировать', 'результата', 'профайлинг', 'необходим', 'случаях', 'важно', 'существенно', 'повысить', 'вероятность', 'успеха', 'эффективность', 'метода', 'профайлинга', 'определяется', 'соблюдением', 'нескольких', 'критериев', 'правильного', 'методологического', 'подхода', 'работе', 'персоналом', 'первом', 'этапе', 'ключевым', 'фактором', 'является', 'определение', 'типа', 'руководителя', 'общей', 'системе', 'организации', 'понимать', 'психотип', 'руководителя', 'осознавать', 'ключевые', 'особенности', 'характера', 'призму', 'профайлинга', 'невозможно', 'определить', 'оптимальный', 'тип', 'сотрудника', 'взаимодействуя', 'получится', 'достичь', 'синергетического', 'эффекта', 'правило', 'применимо', 'обратную', 'сторону', 'устойчивый', 'коллектив', 'требуется', 'новый', 'руководитель', 'важно', 'понимать', 'какими', 'общими', 'индивидуальными', 'чертами', 'обладает', 'коллектив', 'принимать', 'нового', 'сотрудника', 'ориентируясь', 'классические', 'типологии', 'характера', 'описанные', 'мировых', 'классиков', 'теории', 'личности', 'практически', 'невозможно', 'добиться', 'эффективности', 'команде', 'специалистов', 'шизоидной', 'организацией', 'личности', 'руководителем', 'поставить', 'человека', 'эпилептоидным', 'типом', 'характера', 'аналогично', 'сложно', 'представить', 'эффективное', 'взаимодействие', 'сотрудников', 'паранойяльного', 'типа', 'характера', 'гипертимным', 'типом', 'исключения', 'возможны', 'большей', 'степени', 'определены', 'особенностями', 'формирования', 'личности', 'среде', 'личной', 'профессиональной', 'историей', 'профайлинг', 'привел', 'результатам', 'важно', 'понимать', 'задачу', 'возложена', 'сотрудника', 'части', 'прямых', 'обязанностей', 'ключе', 'воздействия', 'эмоциональную', 'составляющую', 'коллектива', 'нужно', 'гармонизировать', 'отношения', 'коллективе', 'добавить', 'единства', 'команду', 'оптимальным', 'выбор', 'человека', 'эмотивным', 'типом', 'организацию', 'эмотивы', 'способны', 'дипломатичными', 'предупредительными', 'учитывать', 'интересы', 'всей', 'команды', 'ориентируясь', 'личные', 'выгоды', 'случае', 'усиления', 'дисциплины', 'контроля', 'деятельностью', 'команды', 'оптимальным', 'подбор', 'руководителя', 'эпилептоидной', 'личностной', 'культурой', 'люди', 'способны', 'строгой', 'классификации', 'иерархии', 'субординации', 'выстраиванию', 'соответствующих', 'организационных', 'систем', 'рассматриваем', 'сложности', 'взаимодействия', 'командах', 'формальный', 'неформальный', 'лидер', 'являются', 'разными', 'людьми', 'системах', 'необходимо', 'детальное', 'изучение', 'специфики', 'команды', 'профайлинг', 'работает', 'ситуациях', 'существует', 'необходимость', 'подбора', 'сотрудника', 'коллектив', 'несколько', 'человек', 'выполняют', 'одинаковые', 'функции', 'нужно', 'взять', 'дополнительного', 'бухгалтера', 'участок', 'легко', 'можете', 'сформировать', 'требования', 'психологическому', 'профилю', 'исходя', 'типового', 'профиля', 'одного', 'сотрудников', 'бухгалтерии', 'вероятнее', 'сотрудник', 'иметь', 'тревожный', 'характерологический', 'тип', 'свойственны', 'скрупулезность', 'повышенная', 'осторожность', 'предполагается', 'данный', 'сотрудник', 'временем', 'займет', 'руководящую', 'должность', 'необходимо', 'характере', 'присутствовали', 'паранойяльные', 'эпилептоидные', 'нотки', 'зависимости', 'условий', 'профессиональной', 'среды', 'планируется', 'рост', 'финансового', 'директора', 'структуре', 'характера', 'сотрудника', 'должен', 'преобладать', 'паранойяльный', 'тип', 'люди', 'способны', 'добиваться', 'цели', 'руководствуясь', 'основной', 'идеей', 'отвлекаются', 'мелочи', 'способны', 'строить', 'эффективные', 'стратегии', 'сотрудник', 'имеет', 'шанс', 'стать', 'главным', 'бухгалтером', 'эпилептоидный', 'тип', 'характера', 'продуктивным', 'специалисты', 'являются', 'внимательными', 'дотошными', 'точными', 'соблюдающими', 'множество', 'инструкций', 'чистых', 'представителей', 'иного', 'психотипа', 'существует', 'наиболее', 'распространенные', 'сочетания', 'характерологических', 'типов', 'зная', 'вариации', 'проще', 'простраивать', 'требования', 'вакансии', 'описанию', 'формулировки', 'сходные', 'функциональные', 'действия', 'каждым', 'человеком', 'восприниматься', 'поразному', 'учетом', 'личностных', 'особенностей', 'представителей', 'истероидного', 'типа', 'характера', 'важны', 'регалии', 'возможность', 'общего', 'признания', 'человека', 'эмотивного', 'типа', 'важна', 'общественная', 'значимость', 'польза', 'образом', 'участие', 'одной', 'той', 'благотворительной', 'деятельности', 'должно', 'описано', 'поразному', 'зависимости', 'роли', 'будущего', 'сотрудника', 'профайлинг', 'техника', 'помогает', 'определять', 'круг', 'посильных', 'задач', 'сотрудника', 'описанные', 'психотипы', 'характеризуются', 'поведением', 'различными', 'параметрами', 'концентрации', 'степени', 'вовлечения', 'задачи', 'ответственности', 'примеру', 'специалиста', 'hrдепартамента', 'должен', 'заниматься', 'организацией', 'корпоративных', 'мероприятий', 'стоит', 'выбирать', 'сотрудника', 'эпилептоидной', 'культурой', 'сотрудники', 'ориентированные', 'привнесение', 'жизнь', 'коллектива', 'праздника', 'суть', 'данных', 'мероприятий', 'чаще', 'близка', 'говорить', 'какомлибо', 'виде', 'экстремального', 'спорта', 'гипертимного', 'типа', 'характера', 'свойственны', 'качества', 'бодрость', 'красноречие', 'легко', 'поддерживают', 'разговор', 'любую', 'тему', 'являются', 'инициаторами', 'коммуникаций', 'быстро', 'схватывают', 'суть', 'сотрудник', 'гипертимного', 'типа', 'легкостью', 'организовать', 'корпоративное', 'событие', 'мероприятие', 'носит', 'статусный', 'характер', 'стоит', 'совместить', 'труд', 'сотрудника', 'гипертимной', 'организации', 'личности', 'помпезностью', 'истероидного', 'характера', 'вариаций', 'характера', 'великое', 'множество', 'числе', 'характер', 'зависит', 'темперамента', 'определяемого', 'скоростью', 'реакции', 'нервной', 'системы', 'уровне', 'индивидуального', 'строения', 'мозга', 'классические', 'холерики', 'сангвиники', 'меланхолики', 'флегматики', 'ключевые', 'базовые', 'типологии', 'характера', 'определяют', 'внешний', 'вид', 'манеру', 'общения', 'круг', 'посильных', 'задач', 'человека', 'имея', 'соответствующие', 'знания', 'hrспециалисты', 'могут', 'существенно', 'повысить', 'эффективность', 'своего', 'труда', 'создавая', 'укрепляя', 'команды', 'необходимыми', 'звеньями', 'ключевыми', 'игроками']\n"
          ]
        }
      ]
    },
    {
      "cell_type": "code",
      "source": [
        "#выделение корня слова\n",
        "lemmatized_words2 = [stemmer.stem(word) for word in filtered_tokens2]\n",
        "print(lemmatized_words2)"
      ],
      "metadata": {
        "colab": {
          "base_uri": "https://localhost:8080/"
        },
        "id": "TCY5D0tVfrRZ",
        "outputId": "96945471-a5ed-40dd-fe18-263396a6e9ed"
      },
      "execution_count": 144,
      "outputs": [
        {
          "output_type": "stream",
          "name": "stdout",
          "text": [
            "['профайлинг', 'hr', 'принцип', 'эффективн', 'метод', 'профайлинг', 'техник', 'визуальн', 'распознаван', 'психотип', 'человек', 'изначальн', 'термин', 'профайлинг', 'употребля', 'контекст', 'составлен', 'поисков', 'психологическ', 'портрет', 'профил', 'неизвестн', 'лиц', 'след', 'мест', 'преступлен', 'поиск', 'сотрудник', 'техник', 'профайлинг', 'успешн', 'продуктивн', 'применим', 'счита', 'филипп', 'штурмин', 'управля', 'партнер', 'bb', 'airwaves', 'cg', 'эксперт', 'профайлинг', 'организацион', 'психолог', 'клиническ', 'психолог', 'классическ', 'расследован', 'полага', 'психологическ', 'портрет', 'фоторобот', 'подбор', 'формирован', 'команд', 'техник', 'профайлинг', 'гарантирова', 'результат', 'профайлинг', 'необход', 'случа', 'важн', 'существен', 'повыс', 'вероятн', 'успех', 'эффективн', 'метод', 'профайлинг', 'определя', 'соблюден', 'нескольк', 'критер', 'правильн', 'методологическ', 'подход', 'работ', 'персонал', 'перв', 'этап', 'ключев', 'фактор', 'явля', 'определен', 'тип', 'руководител', 'общ', 'систем', 'организац', 'понима', 'психотип', 'руководител', 'осознава', 'ключев', 'особен', 'характер', 'призм', 'профайлинг', 'невозможн', 'определ', 'оптимальн', 'тип', 'сотрудник', 'взаимодейству', 'получ', 'достич', 'синергетическ', 'эффект', 'прав', 'применим', 'обратн', 'сторон', 'устойчив', 'коллект', 'треб', 'нов', 'руководител', 'важн', 'понима', 'как', 'общ', 'индивидуальн', 'черт', 'облада', 'коллект', 'принима', 'нов', 'сотрудник', 'ориентиру', 'классическ', 'типолог', 'характер', 'описа', 'миров', 'классик', 'теор', 'личност', 'практическ', 'невозможн', 'доб', 'эффективн', 'команд', 'специалист', 'шизоидн', 'организац', 'личност', 'руководител', 'постав', 'человек', 'эпилептоидн', 'тип', 'характер', 'аналогичн', 'сложн', 'представ', 'эффективн', 'взаимодейств', 'сотрудник', 'паранойяльн', 'тип', 'характер', 'гипертимн', 'тип', 'исключен', 'возможн', 'больш', 'степен', 'определ', 'особен', 'формирован', 'личност', 'сред', 'личн', 'профессиональн', 'истор', 'профайлинг', 'привел', 'результат', 'важн', 'понима', 'задач', 'возлож', 'сотрудник', 'част', 'прям', 'обязан', 'ключ', 'воздейств', 'эмоциональн', 'составля', 'коллектив', 'нужн', 'гармонизирова', 'отношен', 'коллектив', 'добав', 'единств', 'команд', 'оптимальн', 'выбор', 'человек', 'эмотивн', 'тип', 'организац', 'эмотив', 'способн', 'дипломатичн', 'предупредительн', 'учитыва', 'интерес', 'все', 'команд', 'ориентиру', 'личн', 'выгод', 'случа', 'усилен', 'дисциплин', 'контрол', 'деятельн', 'команд', 'оптимальн', 'подбор', 'руководител', 'эпилептоидн', 'личностн', 'культур', 'люд', 'способн', 'строг', 'классификац', 'иерарх', 'субординац', 'выстраиван', 'соответств', 'организацион', 'сист', 'рассматрива', 'сложност', 'взаимодейств', 'команд', 'формальн', 'неформальн', 'лидер', 'явля', 'разн', 'людьм', 'систем', 'необходим', 'детальн', 'изучен', 'специфик', 'команд', 'профайлинг', 'работа', 'ситуац', 'существ', 'необходим', 'подбор', 'сотрудник', 'коллект', 'нескольк', 'человек', 'выполня', 'одинаков', 'функц', 'нужн', 'взят', 'дополнительн', 'бухгалтер', 'участок', 'легк', 'может', 'сформирова', 'требован', 'психологическ', 'профил', 'исход', 'типов', 'профил', 'одн', 'сотрудник', 'бухгалтер', 'вероятн', 'сотрудник', 'имет', 'тревожн', 'характерологическ', 'тип', 'свойствен', 'скрупулезн', 'повышен', 'осторожн', 'предполага', 'дан', 'сотрудник', 'времен', 'займет', 'руководя', 'должност', 'необходим', 'характер', 'присутствова', 'паранойяльн', 'эпилептоидн', 'нотк', 'зависим', 'услов', 'профессиональн', 'сред', 'планир', 'рост', 'финансов', 'директор', 'структур', 'характер', 'сотрудник', 'долж', 'преоблада', 'паранойяльн', 'тип', 'люд', 'способн', 'добива', 'цел', 'руководству', 'основн', 'иде', 'отвлека', 'мелоч', 'способн', 'стро', 'эффективн', 'стратег', 'сотрудник', 'имеет', 'шанс', 'стат', 'главн', 'бухгалтер', 'эпилептоидн', 'тип', 'характер', 'продуктивн', 'специалист', 'явля', 'внимательн', 'дотошн', 'точн', 'соблюда', 'множеств', 'инструкц', 'чист', 'представител', 'ин', 'психотип', 'существ', 'наибол', 'распространен', 'сочетан', 'характерологическ', 'тип', 'зна', 'вариац', 'прощ', 'простраива', 'требован', 'ваканс', 'описан', 'формулировк', 'сходн', 'функциональн', 'действ', 'кажд', 'человек', 'воспринима', 'поразн', 'учет', 'личностн', 'особен', 'представител', 'истероидн', 'тип', 'характер', 'важн', 'регал', 'возможн', 'общ', 'признан', 'человек', 'эмотивн', 'тип', 'важн', 'обществен', 'значим', 'польз', 'образ', 'участ', 'одн', 'то', 'благотворительн', 'деятельн', 'должн', 'описа', 'поразн', 'зависим', 'рол', 'будущ', 'сотрудник', 'профайлинг', 'техник', 'помога', 'определя', 'круг', 'посильн', 'задач', 'сотрудник', 'описа', 'психотип', 'характериз', 'поведен', 'различн', 'параметр', 'концентрац', 'степен', 'вовлечен', 'задач', 'ответствен', 'пример', 'специалист', 'hрдепартамент', 'долж', 'занима', 'организац', 'корпоративн', 'мероприят', 'сто', 'выбира', 'сотрудник', 'эпилептоидн', 'культур', 'сотрудник', 'ориентирова', 'привнесен', 'жизн', 'коллектив', 'праздник', 'сут', 'дан', 'мероприят', 'чащ', 'близк', 'говор', 'какомлиб', 'вид', 'экстремальн', 'спорт', 'гипертимн', 'тип', 'характер', 'свойствен', 'качеств', 'бодрост', 'краснореч', 'легк', 'поддержива', 'разговор', 'люб', 'тем', 'явля', 'инициатор', 'коммуникац', 'быстр', 'схватыва', 'сут', 'сотрудник', 'гипертимн', 'тип', 'легкост', 'организова', 'корпоративн', 'событ', 'мероприят', 'нос', 'статусн', 'характер', 'сто', 'совмест', 'труд', 'сотрудник', 'гипертимн', 'организац', 'личност', 'помпезн', 'истероидн', 'характер', 'вариац', 'характер', 'велик', 'множеств', 'числ', 'характер', 'завис', 'темперамент', 'определя', 'скорост', 'реакц', 'нервн', 'систем', 'уровн', 'индивидуальн', 'строен', 'мозг', 'классическ', 'холерик', 'сангвиник', 'меланхолик', 'флегматик', 'ключев', 'базов', 'типолог', 'характер', 'определя', 'внешн', 'вид', 'манер', 'общен', 'круг', 'посильн', 'задач', 'человек', 'име', 'соответств', 'знан', 'hрспециалист', 'могут', 'существен', 'повыс', 'эффективн', 'сво', 'труд', 'создав', 'укрепл', 'команд', 'необходим', 'звен', 'ключев', 'игрок']\n"
          ]
        }
      ]
    },
    {
      "cell_type": "code",
      "source": [
        "fdist2 = FreqDist(lemmatized_words2)\n",
        "fdist2.plot(30,cumulative=False)"
      ],
      "metadata": {
        "colab": {
          "base_uri": "https://localhost:8080/",
          "height": 562
        },
        "id": "XjOnCe-Lf4zW",
        "outputId": "726a9914-05d1-466f-a428-df547b6c6ef9"
      },
      "execution_count": 145,
      "outputs": [
        {
          "output_type": "display_data",
          "data": {
            "text/plain": [
              "<Figure size 640x480 with 1 Axes>"
            ],
            "image/png": "[encoded data removed]"
          },
          "metadata": {}
        },
        {
          "output_type": "execute_result",
          "data": {
            "text/plain": [
              "<Axes: xlabel='Samples', ylabel='Counts'>"
            ]
          },
          "metadata": {},
          "execution_count": 145
        }
      ]
    }
  ]
}